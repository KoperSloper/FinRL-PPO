{
 "cells": [
  {
   "cell_type": "markdown",
   "metadata": {},
   "source": [
    "# Explanation DDPG algorithm for portfolio allocation"
   ]
  },
  {
   "cell_type": "markdown",
   "metadata": {},
   "source": [
    "This Jupyter notebook is designed to provide an overview of using [FinRL](https://github.com/AI4Finance-Foundation/FinRL) for **portfolio allocation**, with a focus on the **Deep Deterministic Policy Gradient (DDPG)** algorithm.\n",
    "\n",
    "## Introduction\n",
    "\n",
    "**FinRL** is an open-source library that provides implementations of state-of-the-art reinforcement learning algorithms for automated stock trading. It is designed to make it easy to develop, train, and use deep reinforcement learning models for trading.\n",
    "\n",
    "## Notebook Content\n",
    "\n",
    "In this notebook, we will walk through the process of setting up a trading environment, defining a trading strategy using DDPG, training the model, and finally evaluating its performance. Furthermore, some details regarding the states and algorithms are provided. We hope this notebook serves as a useful guide "
   ]
  },
  {
   "cell_type": "markdown",
   "metadata": {},
   "source": [
    "### 1. Import Packages"
   ]
  },
  {
   "cell_type": "code",
   "execution_count": 1,
   "metadata": {},
   "outputs": [
    {
     "name": "stdout",
     "output_type": "stream",
     "text": [
      "WARNING:tensorflow:From c:\\Users\\TonVo\\anaconda3\\envs\\myenv3.10\\lib\\site-packages\\keras\\src\\losses.py:2976: The name tf.losses.sparse_softmax_cross_entropy is deprecated. Please use tf.compat.v1.losses.sparse_softmax_cross_entropy instead.\n",
      "\n"
     ]
    },
    {
     "name": "stderr",
     "output_type": "stream",
     "text": [
      "c:\\Users\\TonVo\\anaconda3\\envs\\myenv3.10\\lib\\site-packages\\pyfolio\\pos.py:26: UserWarning: Module \"zipline.assets\" not found; mutltipliers will not be applied to position notionals.\n",
      "  warnings.warn(\n"
     ]
    }
   ],
   "source": [
    "import pandas as pd\n",
    "import numpy as np\n",
    "import matplotlib\n",
    "import matplotlib.pyplot as plt\n",
    "matplotlib.use('Agg')\n",
    "%matplotlib inline\n",
    "import datetime\n",
    "\n",
    "from finrl import config\n",
    "from finrl import config_tickers\n",
    "from finrl.meta.preprocessor.yahoodownloader import YahooDownloader\n",
    "from finrl.meta.preprocessor.preprocessors import FeatureEngineer, data_split\n",
    "from finrl.meta.env_portfolio_allocation.env_portfolio import StockPortfolioEnv\n",
    "from finrl.agents.stablebaselines3.models import DRLAgent\n",
    "from finrl.plot import backtest_stats, backtest_plot, get_daily_return, get_baseline,convert_daily_return_to_pyfolio_ts\n",
    "from finrl.meta.data_processor import DataProcessor\n",
    "from finrl.meta.data_processors.processor_yahoofinance import YahooFinanceProcessor"
   ]
  },
  {
   "cell_type": "code",
   "execution_count": 2,
   "metadata": {},
   "outputs": [],
   "source": [
    "import os\n",
    "\n",
    "from finrl.main import check_and_make_directories\n",
    "from finrl.config import (\n",
    "    DATA_SAVE_DIR,\n",
    "    TRAINED_MODEL_DIR,\n",
    "    TENSORBOARD_LOG_DIR,\n",
    "    RESULTS_DIR,\n",
    "    INDICATORS,\n",
    "    TRAIN_START_DATE,\n",
    "    TRAIN_END_DATE,\n",
    "    TEST_START_DATE,\n",
    "    TEST_END_DATE,\n",
    "    TRADE_START_DATE,\n",
    "    TRADE_END_DATE,\n",
    ")\n",
    "check_and_make_directories([DATA_SAVE_DIR, TRAINED_MODEL_DIR, TENSORBOARD_LOG_DIR, RESULTS_DIR])"
   ]
  },
  {
   "cell_type": "markdown",
   "metadata": {},
   "source": [
    "### 2. Data Preparation"
   ]
  },
  {
   "cell_type": "code",
   "execution_count": 3,
   "metadata": {},
   "outputs": [],
   "source": [
    "TRAIN_START_DATE = '2008-01-01'\n",
    "TRAIN_END_DATE = '2019-01-01'\n",
    "TRADE_START_DATE = '2019-01-01'\n",
    "TRADE_END_DATE = '2021-10-01'"
   ]
  },
  {
   "cell_type": "code",
   "execution_count": 4,
   "metadata": {},
   "outputs": [
    {
     "name": "stdout",
     "output_type": "stream",
     "text": [
      "[*********************100%%**********************]  1 of 1 completed\n",
      "[*********************100%%**********************]  1 of 1 completed\n",
      "[*********************100%%**********************]  1 of 1 completed\n",
      "[*********************100%%**********************]  1 of 1 completed\n",
      "[*********************100%%**********************]  1 of 1 completed\n",
      "[*********************100%%**********************]  1 of 1 completed\n",
      "[*********************100%%**********************]  1 of 1 completed\n",
      "[*********************100%%**********************]  1 of 1 completed\n",
      "[*********************100%%**********************]  1 of 1 completed\n",
      "[*********************100%%**********************]  1 of 1 completed\n",
      "[*********************100%%**********************]  1 of 1 completed\n",
      "[*********************100%%**********************]  1 of 1 completed\n",
      "[*********************100%%**********************]  1 of 1 completed\n",
      "[*********************100%%**********************]  1 of 1 completed\n",
      "[*********************100%%**********************]  1 of 1 completed\n",
      "[*********************100%%**********************]  1 of 1 completed\n",
      "[*********************100%%**********************]  1 of 1 completed\n",
      "[*********************100%%**********************]  1 of 1 completed\n",
      "[*********************100%%**********************]  1 of 1 completed\n",
      "[*********************100%%**********************]  1 of 1 completed\n",
      "[*********************100%%**********************]  1 of 1 completed\n",
      "[*********************100%%**********************]  1 of 1 completed\n",
      "[*********************100%%**********************]  1 of 1 completed\n",
      "[*********************100%%**********************]  1 of 1 completed\n",
      "[*********************100%%**********************]  1 of 1 completed\n",
      "[*********************100%%**********************]  1 of 1 completed\n",
      "[*********************100%%**********************]  1 of 1 completed\n",
      "[*********************100%%**********************]  1 of 1 completed\n",
      "[*********************100%%**********************]  1 of 1 completed\n",
      "[*********************100%%**********************]  1 of 1 completed\n",
      "Shape of DataFrame:  (116045, 8)\n"
     ]
    }
   ],
   "source": [
    "df = YahooDownloader(start_date = '2008-01-01',\n",
    "                     end_date = '2023-10-01',\n",
    "                     ticker_list = config_tickers.DOW_30_TICKER).fetch_data()"
   ]
  },
  {
   "cell_type": "code",
   "execution_count": 5,
   "metadata": {},
   "outputs": [
    {
     "data": {
      "text/html": [
       "<div>\n",
       "<style scoped>\n",
       "    .dataframe tbody tr th:only-of-type {\n",
       "        vertical-align: middle;\n",
       "    }\n",
       "\n",
       "    .dataframe tbody tr th {\n",
       "        vertical-align: top;\n",
       "    }\n",
       "\n",
       "    .dataframe thead th {\n",
       "        text-align: right;\n",
       "    }\n",
       "</style>\n",
       "<table border=\"1\" class=\"dataframe\">\n",
       "  <thead>\n",
       "    <tr style=\"text-align: right;\">\n",
       "      <th></th>\n",
       "      <th>date</th>\n",
       "      <th>open</th>\n",
       "      <th>high</th>\n",
       "      <th>low</th>\n",
       "      <th>close</th>\n",
       "      <th>volume</th>\n",
       "      <th>tic</th>\n",
       "      <th>day</th>\n",
       "    </tr>\n",
       "  </thead>\n",
       "  <tbody>\n",
       "    <tr>\n",
       "      <th>0</th>\n",
       "      <td>2008-01-02</td>\n",
       "      <td>7.116786</td>\n",
       "      <td>7.152143</td>\n",
       "      <td>6.876786</td>\n",
       "      <td>5.898640</td>\n",
       "      <td>1079178800</td>\n",
       "      <td>AAPL</td>\n",
       "      <td>2</td>\n",
       "    </tr>\n",
       "    <tr>\n",
       "      <th>1</th>\n",
       "      <td>2008-01-02</td>\n",
       "      <td>46.599998</td>\n",
       "      <td>47.040001</td>\n",
       "      <td>46.259998</td>\n",
       "      <td>33.761410</td>\n",
       "      <td>7934400</td>\n",
       "      <td>AMGN</td>\n",
       "      <td>2</td>\n",
       "    </tr>\n",
       "    <tr>\n",
       "      <th>2</th>\n",
       "      <td>2008-01-02</td>\n",
       "      <td>52.090000</td>\n",
       "      <td>52.320000</td>\n",
       "      <td>50.790001</td>\n",
       "      <td>39.460514</td>\n",
       "      <td>8053700</td>\n",
       "      <td>AXP</td>\n",
       "      <td>2</td>\n",
       "    </tr>\n",
       "    <tr>\n",
       "      <th>3</th>\n",
       "      <td>2008-01-02</td>\n",
       "      <td>87.570000</td>\n",
       "      <td>87.839996</td>\n",
       "      <td>86.000000</td>\n",
       "      <td>63.481594</td>\n",
       "      <td>4303000</td>\n",
       "      <td>BA</td>\n",
       "      <td>2</td>\n",
       "    </tr>\n",
       "    <tr>\n",
       "      <th>4</th>\n",
       "      <td>2008-01-02</td>\n",
       "      <td>72.559998</td>\n",
       "      <td>72.669998</td>\n",
       "      <td>70.050003</td>\n",
       "      <td>45.605465</td>\n",
       "      <td>6337800</td>\n",
       "      <td>CAT</td>\n",
       "      <td>2</td>\n",
       "    </tr>\n",
       "  </tbody>\n",
       "</table>\n",
       "</div>"
      ],
      "text/plain": [
       "         date       open       high        low      close      volume   tic  \\\n",
       "0  2008-01-02   7.116786   7.152143   6.876786   5.898640  1079178800  AAPL   \n",
       "1  2008-01-02  46.599998  47.040001  46.259998  33.761410     7934400  AMGN   \n",
       "2  2008-01-02  52.090000  52.320000  50.790001  39.460514     8053700   AXP   \n",
       "3  2008-01-02  87.570000  87.839996  86.000000  63.481594     4303000    BA   \n",
       "4  2008-01-02  72.559998  72.669998  70.050003  45.605465     6337800   CAT   \n",
       "\n",
       "   day  \n",
       "0    2  \n",
       "1    2  \n",
       "2    2  \n",
       "3    2  \n",
       "4    2  "
      ]
     },
     "execution_count": 5,
     "metadata": {},
     "output_type": "execute_result"
    }
   ],
   "source": [
    "df.sort_values(['date','tic'],ignore_index=True).head()"
   ]
  },
  {
   "cell_type": "markdown",
   "metadata": {},
   "source": [
    "### 3. Technical Indicators and Covariance Matrix"
   ]
  },
  {
   "cell_type": "code",
   "execution_count": 6,
   "metadata": {},
   "outputs": [
    {
     "name": "stdout",
     "output_type": "stream",
     "text": [
      "Successfully added technical indicators\n",
      "[*********************100%%**********************]  1 of 1 completed\n",
      "Shape of DataFrame:  (3963, 8)\n",
      "Successfully added vix\n"
     ]
    }
   ],
   "source": [
    "fe = FeatureEngineer(use_technical_indicator=True,\n",
    "                    tech_indicator_list = INDICATORS,\n",
    "                    use_turbulence=False,\n",
    "                    use_vix=True,\n",
    "                    user_defined_feature = False)\n",
    "\n",
    "df = fe.preprocess_data(df)"
   ]
  },
  {
   "cell_type": "code",
   "execution_count": 7,
   "metadata": {},
   "outputs": [],
   "source": [
    "df=df.sort_values(['date','tic'],ignore_index=True)\n",
    "df.index = df.date.factorize()[0]\n",
    "\n",
    "cov_list = []\n",
    "return_list = []\n",
    "\n",
    "lookback=252\n",
    "for i in range(lookback,len(df.index.unique())):\n",
    "  data_lookback = df.loc[i-lookback:i,:]\n",
    "  price_lookback=data_lookback.pivot_table(index = 'date',columns = 'tic', values = 'close')\n",
    "  return_lookback = price_lookback.pct_change().dropna()\n",
    "  return_list.append(return_lookback)\n",
    "\n",
    "  covs = return_lookback.cov().values \n",
    "  cov_list.append(covs)\n",
    "\n",
    "\n",
    "df_cov = pd.DataFrame({'date':df.date.unique()[lookback:],'cov_list':cov_list,'return_list':return_list})\n",
    "df = df.merge(df_cov, on='date')\n",
    "df = df.sort_values(['date','tic']).reset_index(drop=True)"
   ]
  },
  {
   "cell_type": "code",
   "execution_count": 8,
   "metadata": {},
   "outputs": [
    {
     "data": {
      "text/html": [
       "<div>\n",
       "<style scoped>\n",
       "    .dataframe tbody tr th:only-of-type {\n",
       "        vertical-align: middle;\n",
       "    }\n",
       "\n",
       "    .dataframe tbody tr th {\n",
       "        vertical-align: top;\n",
       "    }\n",
       "\n",
       "    .dataframe thead th {\n",
       "        text-align: right;\n",
       "    }\n",
       "</style>\n",
       "<table border=\"1\" class=\"dataframe\">\n",
       "  <thead>\n",
       "    <tr style=\"text-align: right;\">\n",
       "      <th></th>\n",
       "      <th>date</th>\n",
       "      <th>open</th>\n",
       "      <th>high</th>\n",
       "      <th>low</th>\n",
       "      <th>close</th>\n",
       "      <th>volume</th>\n",
       "      <th>tic</th>\n",
       "      <th>day</th>\n",
       "      <th>macd</th>\n",
       "      <th>boll_ub</th>\n",
       "      <th>boll_lb</th>\n",
       "      <th>rsi_30</th>\n",
       "      <th>cci_30</th>\n",
       "      <th>dx_30</th>\n",
       "      <th>close_30_sma</th>\n",
       "      <th>close_60_sma</th>\n",
       "      <th>vix</th>\n",
       "      <th>cov_list</th>\n",
       "      <th>return_list</th>\n",
       "    </tr>\n",
       "  </thead>\n",
       "  <tbody>\n",
       "    <tr>\n",
       "      <th>0</th>\n",
       "      <td>2008-12-31</td>\n",
       "      <td>3.070357</td>\n",
       "      <td>3.133571</td>\n",
       "      <td>3.047857</td>\n",
       "      <td>2.583909</td>\n",
       "      <td>607541200</td>\n",
       "      <td>AAPL</td>\n",
       "      <td>2</td>\n",
       "      <td>-0.082603</td>\n",
       "      <td>3.093652</td>\n",
       "      <td>2.454291</td>\n",
       "      <td>42.254760</td>\n",
       "      <td>-80.462628</td>\n",
       "      <td>16.129793</td>\n",
       "      <td>2.749560</td>\n",
       "      <td>2.861671</td>\n",
       "      <td>40.0</td>\n",
       "      <td>[[0.0013489695508097023, 0.0004284123121230200...</td>\n",
       "      <td>tic             AAPL      AMGN       AXP      ...</td>\n",
       "    </tr>\n",
       "    <tr>\n",
       "      <th>1</th>\n",
       "      <td>2008-12-31</td>\n",
       "      <td>57.110001</td>\n",
       "      <td>58.220001</td>\n",
       "      <td>57.060001</td>\n",
       "      <td>41.839504</td>\n",
       "      <td>6287200</td>\n",
       "      <td>AMGN</td>\n",
       "      <td>2</td>\n",
       "      <td>0.156757</td>\n",
       "      <td>42.707030</td>\n",
       "      <td>40.853196</td>\n",
       "      <td>51.060581</td>\n",
       "      <td>51.523032</td>\n",
       "      <td>10.432018</td>\n",
       "      <td>41.058035</td>\n",
       "      <td>40.603777</td>\n",
       "      <td>40.0</td>\n",
       "      <td>[[0.0013489695508097023, 0.0004284123121230200...</td>\n",
       "      <td>tic             AAPL      AMGN       AXP      ...</td>\n",
       "    </tr>\n",
       "    <tr>\n",
       "      <th>2</th>\n",
       "      <td>2008-12-31</td>\n",
       "      <td>17.969999</td>\n",
       "      <td>18.750000</td>\n",
       "      <td>17.910000</td>\n",
       "      <td>14.533794</td>\n",
       "      <td>9625600</td>\n",
       "      <td>AXP</td>\n",
       "      <td>2</td>\n",
       "      <td>-0.932570</td>\n",
       "      <td>18.586825</td>\n",
       "      <td>12.619704</td>\n",
       "      <td>42.554829</td>\n",
       "      <td>-75.445696</td>\n",
       "      <td>25.776759</td>\n",
       "      <td>15.693366</td>\n",
       "      <td>17.559646</td>\n",
       "      <td>40.0</td>\n",
       "      <td>[[0.0013489695508097023, 0.0004284123121230200...</td>\n",
       "      <td>tic             AAPL      AMGN       AXP      ...</td>\n",
       "    </tr>\n",
       "    <tr>\n",
       "      <th>3</th>\n",
       "      <td>2008-12-31</td>\n",
       "      <td>41.590000</td>\n",
       "      <td>43.049999</td>\n",
       "      <td>41.500000</td>\n",
       "      <td>32.005886</td>\n",
       "      <td>5443100</td>\n",
       "      <td>BA</td>\n",
       "      <td>2</td>\n",
       "      <td>-0.279800</td>\n",
       "      <td>32.174386</td>\n",
       "      <td>28.867832</td>\n",
       "      <td>47.440232</td>\n",
       "      <td>156.994661</td>\n",
       "      <td>5.366299</td>\n",
       "      <td>30.327213</td>\n",
       "      <td>32.389914</td>\n",
       "      <td>40.0</td>\n",
       "      <td>[[0.0013489695508097023, 0.0004284123121230200...</td>\n",
       "      <td>tic             AAPL      AMGN       AXP      ...</td>\n",
       "    </tr>\n",
       "    <tr>\n",
       "      <th>4</th>\n",
       "      <td>2008-12-31</td>\n",
       "      <td>43.700001</td>\n",
       "      <td>45.099998</td>\n",
       "      <td>43.700001</td>\n",
       "      <td>29.608650</td>\n",
       "      <td>6277400</td>\n",
       "      <td>CAT</td>\n",
       "      <td>2</td>\n",
       "      <td>0.655611</td>\n",
       "      <td>30.348091</td>\n",
       "      <td>25.455650</td>\n",
       "      <td>51.205297</td>\n",
       "      <td>98.374075</td>\n",
       "      <td>26.331746</td>\n",
       "      <td>26.689552</td>\n",
       "      <td>26.423593</td>\n",
       "      <td>40.0</td>\n",
       "      <td>[[0.0013489695508097023, 0.0004284123121230200...</td>\n",
       "      <td>tic             AAPL      AMGN       AXP      ...</td>\n",
       "    </tr>\n",
       "  </tbody>\n",
       "</table>\n",
       "</div>"
      ],
      "text/plain": [
       "         date       open       high        low      close     volume   tic  \\\n",
       "0  2008-12-31   3.070357   3.133571   3.047857   2.583909  607541200  AAPL   \n",
       "1  2008-12-31  57.110001  58.220001  57.060001  41.839504    6287200  AMGN   \n",
       "2  2008-12-31  17.969999  18.750000  17.910000  14.533794    9625600   AXP   \n",
       "3  2008-12-31  41.590000  43.049999  41.500000  32.005886    5443100    BA   \n",
       "4  2008-12-31  43.700001  45.099998  43.700001  29.608650    6277400   CAT   \n",
       "\n",
       "   day      macd    boll_ub    boll_lb     rsi_30      cci_30      dx_30  \\\n",
       "0    2 -0.082603   3.093652   2.454291  42.254760  -80.462628  16.129793   \n",
       "1    2  0.156757  42.707030  40.853196  51.060581   51.523032  10.432018   \n",
       "2    2 -0.932570  18.586825  12.619704  42.554829  -75.445696  25.776759   \n",
       "3    2 -0.279800  32.174386  28.867832  47.440232  156.994661   5.366299   \n",
       "4    2  0.655611  30.348091  25.455650  51.205297   98.374075  26.331746   \n",
       "\n",
       "   close_30_sma  close_60_sma   vix  \\\n",
       "0      2.749560      2.861671  40.0   \n",
       "1     41.058035     40.603777  40.0   \n",
       "2     15.693366     17.559646  40.0   \n",
       "3     30.327213     32.389914  40.0   \n",
       "4     26.689552     26.423593  40.0   \n",
       "\n",
       "                                            cov_list  \\\n",
       "0  [[0.0013489695508097023, 0.0004284123121230200...   \n",
       "1  [[0.0013489695508097023, 0.0004284123121230200...   \n",
       "2  [[0.0013489695508097023, 0.0004284123121230200...   \n",
       "3  [[0.0013489695508097023, 0.0004284123121230200...   \n",
       "4  [[0.0013489695508097023, 0.0004284123121230200...   \n",
       "\n",
       "                                         return_list  \n",
       "0  tic             AAPL      AMGN       AXP      ...  \n",
       "1  tic             AAPL      AMGN       AXP      ...  \n",
       "2  tic             AAPL      AMGN       AXP      ...  \n",
       "3  tic             AAPL      AMGN       AXP      ...  \n",
       "4  tic             AAPL      AMGN       AXP      ...  "
      ]
     },
     "execution_count": 8,
     "metadata": {},
     "output_type": "execute_result"
    }
   ],
   "source": [
    "df.head()"
   ]
  },
  {
   "cell_type": "code",
   "execution_count": 9,
   "metadata": {},
   "outputs": [],
   "source": [
    "train = data_split(df, start=TRAIN_START_DATE, end=TRAIN_END_DATE)\n",
    "trade = data_split(df, start=TRADE_START_DATE, end=TRADE_END_DATE)"
   ]
  },
  {
   "cell_type": "code",
   "execution_count": 10,
   "metadata": {},
   "outputs": [],
   "source": [
    "from finrl.meta.env_portfolio_allocation.env_portfolio import StockPortfolioEnv"
   ]
  },
  {
   "cell_type": "code",
   "execution_count": 11,
   "metadata": {},
   "outputs": [
    {
     "name": "stdout",
     "output_type": "stream",
     "text": [
      "Stock Dimension: 28, State Space: 28\n"
     ]
    }
   ],
   "source": [
    "stock_dimension = len(train.tic.unique())\n",
    "state_space = stock_dimension\n",
    "print(f\"Stock Dimension: {stock_dimension}, State Space: {state_space}\")"
   ]
  },
  {
   "cell_type": "markdown",
   "metadata": {},
   "source": [
    "The state that the model observes is a matrix $\\in$ $\\mathbb{R}^{28 \\times 36}$, which incorporates the covariance matrix and the technical indicators. Before the matrix is passed to the MLP, it gets flattened so that it can be used."
   ]
  },
  {
   "cell_type": "markdown",
   "metadata": {},
   "source": [
    "### 4. Setting up the Environment"
   ]
  },
  {
   "cell_type": "code",
   "execution_count": 12,
   "metadata": {},
   "outputs": [],
   "source": [
    "env_kwargs = {\n",
    "    \"hmax\": 100, \n",
    "    \"initial_amount\": 1000000, \n",
    "    \"transaction_cost_pct\": 0.001, \n",
    "    \"state_space\": state_space, \n",
    "    \"stock_dim\": stock_dimension, \n",
    "    \"tech_indicator_list\": config.INDICATORS, \n",
    "    \"action_space\": stock_dimension, \n",
    "    \"reward_scaling\": 1e-4\n",
    "    \n",
    "}\n",
    "\n",
    "e_train_gym = StockPortfolioEnv(df = train, **env_kwargs)"
   ]
  },
  {
   "cell_type": "markdown",
   "metadata": {},
   "source": [
    "The `StockPortfolioEnv` class is initialized with the following parameters:\n",
    "\n",
    "- $H_{\\text{max}}$: Maximum number of shares to buy or sell, set to 100 in this case.\n",
    "- $M_{\\text{initial}}$: Initial amount of money in the portfolio, set to 1,000,000 in this case.\n",
    "- $C_{\\text{transaction}}$: Transaction cost percentage per trade, set to 0.001 in this case.\n",
    "- $S$: State space of the environment, represented by the variable `state_space`.\n",
    "- $n$: Number of unique stocks, represented by the variable `stock_dim`.\n",
    "- $I$: List of technical indicators, represented by `config.INDICATORS`.\n",
    "- $A$: Action space of the environment, which is equal to the number of unique stocks ($n$). For each stock, an action can be to buy, sell, or hold.\n",
    "- $r_{\\text{scaling}}$: Scaling factor for the reward, set to $1 \\times 10^{-4}$ in this case."
   ]
  },
  {
   "cell_type": "code",
   "execution_count": 13,
   "metadata": {},
   "outputs": [],
   "source": [
    "env_train, _ = e_train_gym.get_sb_env()"
   ]
  },
  {
   "cell_type": "markdown",
   "metadata": {},
   "source": [
    "### 5. The Agent"
   ]
  },
  {
   "cell_type": "code",
   "execution_count": 14,
   "metadata": {},
   "outputs": [
    {
     "name": "stdout",
     "output_type": "stream",
     "text": [
      "{'batch_size': 128, 'buffer_size': 50000, 'learning_rate': 0.001}\n",
      "Using cuda device\n"
     ]
    }
   ],
   "source": [
    "agent = DRLAgent(env = env_train)\n",
    "DDG_PARAMS = {\"batch_size\": 128,\n",
    "              \"buffer_size\": 50000,\n",
    "              \"learning_rate\": 0.001}\n",
    "\n",
    "model_ddpg = agent.get_model(\"ddpg\", model_kwargs = DDG_PARAMS)"
   ]
  },
  {
   "cell_type": "markdown",
   "metadata": {},
   "source": [
    "Below is some pseudocode for the DDPG algorithm from [OpenAI Spinning Up](https://spinningup.openai.com/en/latest/algorithms/ddpg.html). The original paper can be found here [Continuous control with deep reinforcement learning](https://arxiv.org/abs/1509.02971)."
   ]
  },
  {
   "attachments": {
    "image.png": {
     "image/png": "[encoded data removed]"
    }
   },
   "cell_type": "markdown",
   "metadata": {},
   "source": [
    "![image.png](attachment:image.png)"
   ]
  },
  {
   "cell_type": "markdown",
   "metadata": {},
   "source": [
    "The main intuition behind the DDPG algorithm is that the agent learns a policy $\\mu(s)$ which maps states to actions. The policy is learned by using the actor-critic method, where the actor is the policy $\\mu(s)$ and the critic is the Q-function $Q(s, a)$. The actor is updated by using the gradient of the Q-function with respect to the policy, $\\nabla_{\\mu}Q(s, a)$. The critic is updated by using the Bellman equation, which is the same as in the Q-learning algorithm. If we assume that the Q-function is accurate, we would obviously like to choose the action that maximizes the Q-function. We do this by taking a step in the direction of steepest ascent. The critic is simultaneously updated by minimizing the loss function, which is the mean squared Bellman error. The actor and critic work together to learn the optimal policy."
   ]
  },
  {
   "cell_type": "code",
   "execution_count": 15,
   "metadata": {},
   "outputs": [
    {
     "name": "stdout",
     "output_type": "stream",
     "text": [
      "=================================\n",
      "begin_total_asset:1000000\n",
      "end_total_asset:4870872.498507117\n",
      "Sharpe:  1.0749945928424933\n",
      "=================================\n",
      "=================================\n",
      "begin_total_asset:1000000\n",
      "end_total_asset:5188821.330432643\n",
      "Sharpe:  1.1116141299137292\n",
      "=================================\n",
      "=================================\n",
      "begin_total_asset:1000000\n",
      "end_total_asset:5188821.330432643\n",
      "Sharpe:  1.1116141299137292\n",
      "=================================\n",
      "=================================\n",
      "begin_total_asset:1000000\n",
      "end_total_asset:5188821.330432643\n",
      "Sharpe:  1.1116141299137292\n",
      "=================================\n",
      "----------------------------------\n",
      "| time/              |           |\n",
      "|    episodes        | 4         |\n",
      "|    fps             | 77        |\n",
      "|    time_elapsed    | 129       |\n",
      "|    total_timesteps | 10068     |\n",
      "| train/             |           |\n",
      "|    actor_loss      | -7.35e+07 |\n",
      "|    critic_loss     | 5.9e+12   |\n",
      "|    learning_rate   | 0.001     |\n",
      "|    n_updates       | 7551      |\n",
      "|    reward          | 5188821.5 |\n",
      "----------------------------------\n",
      "=================================\n",
      "begin_total_asset:1000000\n",
      "end_total_asset:5188821.330432643\n",
      "Sharpe:  1.1116141299137292\n",
      "=================================\n",
      "=================================\n",
      "begin_total_asset:1000000\n",
      "end_total_asset:5188821.330432643\n",
      "Sharpe:  1.1116141299137292\n",
      "=================================\n",
      "=================================\n",
      "begin_total_asset:1000000\n",
      "end_total_asset:5188821.330432643\n",
      "Sharpe:  1.1116141299137292\n",
      "=================================\n",
      "=================================\n",
      "begin_total_asset:1000000\n",
      "end_total_asset:5188821.330432643\n",
      "Sharpe:  1.1116141299137292\n",
      "=================================\n",
      "----------------------------------\n",
      "| time/              |           |\n",
      "|    episodes        | 8         |\n",
      "|    fps             | 72        |\n",
      "|    time_elapsed    | 278       |\n",
      "|    total_timesteps | 20136     |\n",
      "| train/             |           |\n",
      "|    actor_loss      | -1.59e+08 |\n",
      "|    critic_loss     | 2.4e+13   |\n",
      "|    learning_rate   | 0.001     |\n",
      "|    n_updates       | 17619     |\n",
      "|    reward          | 5188821.5 |\n",
      "----------------------------------\n",
      "=================================\n",
      "begin_total_asset:1000000\n",
      "end_total_asset:5188821.330432643\n",
      "Sharpe:  1.1116141299137292\n",
      "=================================\n",
      "=================================\n",
      "begin_total_asset:1000000\n",
      "end_total_asset:5188821.330432643\n",
      "Sharpe:  1.1116141299137292\n",
      "=================================\n",
      "=================================\n",
      "begin_total_asset:1000000\n",
      "end_total_asset:5188821.330432643\n",
      "Sharpe:  1.1116141299137292\n",
      "=================================\n",
      "=================================\n",
      "begin_total_asset:1000000\n",
      "end_total_asset:5188821.330432643\n",
      "Sharpe:  1.1116141299137292\n",
      "=================================\n",
      "----------------------------------\n",
      "| time/              |           |\n",
      "|    episodes        | 12        |\n",
      "|    fps             | 70        |\n",
      "|    time_elapsed    | 426       |\n",
      "|    total_timesteps | 30204     |\n",
      "| train/             |           |\n",
      "|    actor_loss      | -2.1e+08  |\n",
      "|    critic_loss     | 3.85e+13  |\n",
      "|    learning_rate   | 0.001     |\n",
      "|    n_updates       | 27687     |\n",
      "|    reward          | 5188821.5 |\n",
      "----------------------------------\n",
      "=================================\n",
      "begin_total_asset:1000000\n",
      "end_total_asset:5188821.330432643\n",
      "Sharpe:  1.1116141299137292\n",
      "=================================\n",
      "=================================\n",
      "begin_total_asset:1000000\n",
      "end_total_asset:5188821.330432643\n",
      "Sharpe:  1.1116141299137292\n",
      "=================================\n",
      "=================================\n",
      "begin_total_asset:1000000\n",
      "end_total_asset:5188821.330432643\n",
      "Sharpe:  1.1116141299137292\n",
      "=================================\n",
      "=================================\n",
      "begin_total_asset:1000000\n",
      "end_total_asset:5188821.330432643\n",
      "Sharpe:  1.1116141299137292\n",
      "=================================\n",
      "----------------------------------\n",
      "| time/              |           |\n",
      "|    episodes        | 16        |\n",
      "|    fps             | 70        |\n",
      "|    time_elapsed    | 571       |\n",
      "|    total_timesteps | 40272     |\n",
      "| train/             |           |\n",
      "|    actor_loss      | -2.4e+08  |\n",
      "|    critic_loss     | 4.33e+13  |\n",
      "|    learning_rate   | 0.001     |\n",
      "|    n_updates       | 37755     |\n",
      "|    reward          | 5188821.5 |\n",
      "----------------------------------\n",
      "=================================\n",
      "begin_total_asset:1000000\n",
      "end_total_asset:5188821.330432643\n",
      "Sharpe:  1.1116141299137292\n",
      "=================================\n",
      "=================================\n",
      "begin_total_asset:1000000\n",
      "end_total_asset:5188821.330432643\n",
      "Sharpe:  1.1116141299137292\n",
      "=================================\n",
      "=================================\n",
      "begin_total_asset:1000000\n",
      "end_total_asset:5188821.330432643\n",
      "Sharpe:  1.1116141299137292\n",
      "=================================\n",
      "=================================\n",
      "begin_total_asset:1000000\n",
      "end_total_asset:5188821.330432643\n",
      "Sharpe:  1.1116141299137292\n",
      "=================================\n",
      "----------------------------------\n",
      "| time/              |           |\n",
      "|    episodes        | 20        |\n",
      "|    fps             | 70        |\n",
      "|    time_elapsed    | 719       |\n",
      "|    total_timesteps | 50340     |\n",
      "| train/             |           |\n",
      "|    actor_loss      | -2.59e+08 |\n",
      "|    critic_loss     | 4.72e+13  |\n",
      "|    learning_rate   | 0.001     |\n",
      "|    n_updates       | 47823     |\n",
      "|    reward          | 5188821.5 |\n",
      "----------------------------------\n"
     ]
    }
   ],
   "source": [
    "trained_ddpg = agent.train_model(model=model_ddpg,\n",
    "                                 tb_log_name='ddpg',\n",
    "                                 total_timesteps=50000)"
   ]
  },
  {
   "cell_type": "markdown",
   "metadata": {},
   "source": [
    "### 6. The Actor and Critic Architectures"
   ]
  },
  {
   "cell_type": "code",
   "execution_count": 23,
   "metadata": {},
   "outputs": [
    {
     "data": {
      "text/plain": [
       "Actor(\n",
       "  (features_extractor): FlattenExtractor(\n",
       "    (flatten): Flatten(start_dim=1, end_dim=-1)\n",
       "  )\n",
       "  (mu): Sequential(\n",
       "    (0): Linear(in_features=1008, out_features=400, bias=True)\n",
       "    (1): ReLU()\n",
       "    (2): Linear(in_features=400, out_features=300, bias=True)\n",
       "    (3): ReLU()\n",
       "    (4): Linear(in_features=300, out_features=28, bias=True)\n",
       "    (5): Tanh()\n",
       "  )\n",
       ")"
      ]
     },
     "execution_count": 23,
     "metadata": {},
     "output_type": "execute_result"
    }
   ],
   "source": [
    "trained_ddpg.actor"
   ]
  },
  {
   "cell_type": "markdown",
   "metadata": {},
   "source": [
    "The `Actor` class in the code above represents the policy model:\n",
    "\n",
    "1. **Features Extractor**: The `FlattenExtractor` is used to flatten the input tensor. If $X$ is the input tensor, the operation can be represented as:\n",
    "\n",
    "    $$X_{\\text{flat}} = \\text{Flatten}(X)$$\n",
    "\n",
    "2. **Sequential Model (`mu`)**: This is a feed-forward neural network (FNN) that maps the flattened input to the action space. The FNN consists of three fully connected (`Linear`) layers with ReLU activation functions, followed by a `Tanh` activation function. If $W_i$ and $b_i$ represent the weights and biases of the $i$-th layer, and $h_i$ represents the output after the $i$-th layer, the operations can be represented as:\n",
    "\n",
    "    $$h_0 = X_{\\text{flat}}$$\n",
    "    $$h_1 = \\text{ReLU}(W_1 h_0 + b_1)$$\n",
    "    $$h_2 = \\text{ReLU}(W_2 h_1 + b_2)$$\n",
    "    $$h_3 = \\text{Tanh}(W_3 h_2 + b_3)$$\n",
    "\n",
    "Here, $h_3$ represents the output of the `Actor` model, which is the action taken by the agent."
   ]
  },
  {
   "cell_type": "markdown",
   "metadata": {},
   "source": [
    "3. **Softmax Layer**: The output of the `Actor` model, $h_3$, then goes through a softmax function to produce the weights over the action space. The softmax function is defined as:\n",
    "\n",
    "    $$\\text{Softmax}(x_i) = \\frac{\\exp(x_i)}{\\sum_j \\exp(x_j)}$$\n",
    "\n",
    "Applying this to $h_3$, we get:\n",
    "\n",
    "$$p_i = \\frac{\\exp(h_{3,i})}{\\sum_j \\exp(h_{3,j})}$$\n",
    "\n",
    "Here, $p$ represents the probability distribution over the action space, which can be interpreted as the weights for each stock.\n"
   ]
  },
  {
   "cell_type": "code",
   "execution_count": 36,
   "metadata": {},
   "outputs": [
    {
     "data": {
      "text/plain": [
       "ContinuousCritic(\n",
       "  (features_extractor): FlattenExtractor(\n",
       "    (flatten): Flatten(start_dim=1, end_dim=-1)\n",
       "  )\n",
       "  (qf0): Sequential(\n",
       "    (0): Linear(in_features=1036, out_features=400, bias=True)\n",
       "    (1): ReLU()\n",
       "    (2): Linear(in_features=400, out_features=300, bias=True)\n",
       "    (3): ReLU()\n",
       "    (4): Linear(in_features=300, out_features=1, bias=True)\n",
       "  )\n",
       ")"
      ]
     },
     "execution_count": 36,
     "metadata": {},
     "output_type": "execute_result"
    }
   ],
   "source": [
    "trained_ddpg.critic"
   ]
  },
  {
   "cell_type": "markdown",
   "metadata": {},
   "source": [
    "The critic architecture is very similar to the actor architecture:\n",
    "\n",
    "1. **Features Extractor**: The `FlattenExtractor` is used to flatten the input tensor. If $X$ is the input tensor, the operation can be represented as:\n",
    "\n",
    "    $$X_{\\text{flat}} = \\text{Flatten}(X)$$\n",
    "\n",
    "2. **Sequential Model (`qf0`)**: This is a feed-forward neural network (FNN) that maps the flattened input to a single output value. The FNN consists of three fully connected (`Linear`) layers with ReLU activation functions. If $W_i$ and $b_i$ represent the weights and biases of the $i$-th layer, and $h_i$ represents the output after the $i$-th layer, the operations can be represented as:\n",
    "\n",
    "    $$h_0 = X_{\\text{flat}}$$\n",
    "    $$h_1 = \\text{ReLU}(W_1 h_0 + b_1)$$\n",
    "    $$h_2 = \\text{ReLU}(W_2 h_1 + b_2)$$\n",
    "    $$h_3 = W_3 h_2 + b_3$$\n",
    "\n",
    "Here, $h_3$ represents the output of the `ContinuousCritic` model, which is the estimated value of the given state-action pair."
   ]
  },
  {
   "cell_type": "markdown",
   "metadata": {},
   "source": [
    "### 7. Setting up the testing environment"
   ]
  },
  {
   "cell_type": "code",
   "execution_count": 16,
   "metadata": {},
   "outputs": [],
   "source": [
    "e_trade_gym = StockPortfolioEnv(df = trade, turbulence_threshold=250, **env_kwargs)"
   ]
  },
  {
   "cell_type": "markdown",
   "metadata": {},
   "source": [
    "### 8. Backtesting"
   ]
  },
  {
   "cell_type": "code",
   "execution_count": 24,
   "metadata": {},
   "outputs": [
    {
     "name": "stdout",
     "output_type": "stream",
     "text": [
      "=================================\n",
      "begin_total_asset:1000000\n",
      "end_total_asset:1703733.9288533884\n",
      "Sharpe:  0.9371133966849969\n",
      "=================================\n",
      "hit end!\n"
     ]
    }
   ],
   "source": [
    "df_daily_return, df_actions = DRLAgent.DRL_prediction(model=trained_ddpg, environment=e_trade_gym)"
   ]
  },
  {
   "cell_type": "code",
   "execution_count": 26,
   "metadata": {},
   "outputs": [],
   "source": [
    "from pyfolio import timeseries\n",
    "DLR_strat = convert_daily_return_to_pyfolio_ts(df_daily_return)\n",
    "perf_func = timeseries.perf_stats\n",
    "perf_stats_all = perf_func(returns=DLR_strat,\n",
    "                       factor_returns=DLR_strat,\n",
    "                        positions=None,\n",
    "                        transactions=None,\n",
    "                        turnover_denom=\"AGB\")"
   ]
  },
  {
   "cell_type": "code",
   "execution_count": 27,
   "metadata": {},
   "outputs": [
    {
     "name": "stdout",
     "output_type": "stream",
     "text": [
      "==============DRL Strategy Stats===========\n"
     ]
    },
    {
     "data": {
      "text/plain": [
       "Annual return           0.213797\n",
       "Cumulative returns      0.703734\n",
       "Annual volatility       0.236938\n",
       "Sharpe ratio            0.937113\n",
       "Calmar ratio            0.634928\n",
       "Stability               0.833425\n",
       "Max drawdown           -0.336727\n",
       "Omega ratio             1.227377\n",
       "Sortino ratio           1.318788\n",
       "Skew                   -0.484015\n",
       "Kurtosis               19.544321\n",
       "Tail ratio              0.922778\n",
       "Daily value at risk    -0.028970\n",
       "Alpha                   0.000000\n",
       "Beta                    1.000000\n",
       "dtype: float64"
      ]
     },
     "execution_count": 27,
     "metadata": {},
     "output_type": "execute_result"
    }
   ],
   "source": [
    "print(\"==============DRL Strategy Stats===========\")\n",
    "perf_stats_all"
   ]
  },
  {
   "cell_type": "code",
   "execution_count": 28,
   "metadata": {},
   "outputs": [
    {
     "name": "stdout",
     "output_type": "stream",
     "text": [
      "==============Get Baseline Stats===========\n",
      "[*********************100%%**********************]  1 of 1 completed\n",
      "Shape of DataFrame:  (692, 8)\n",
      "Annual return          0.151492\n",
      "Cumulative returns     0.473073\n",
      "Annual volatility      0.242630\n",
      "Sharpe ratio           0.704554\n",
      "Calmar ratio           0.408486\n",
      "Stability              0.600261\n",
      "Max drawdown          -0.370862\n",
      "Omega ratio            1.167494\n",
      "Sortino ratio          0.973706\n",
      "Skew                        NaN\n",
      "Kurtosis                    NaN\n",
      "Tail ratio             0.907059\n",
      "Daily value at risk   -0.029890\n",
      "dtype: float64\n"
     ]
    }
   ],
   "source": [
    "print(\"==============Get Baseline Stats===========\")\n",
    "baseline_df = get_baseline(\n",
    "        ticker=\"^DJI\", \n",
    "        start = df_daily_return.loc[0,'date'],\n",
    "        end = df_daily_return.loc[len(df_daily_return)-1,'date'])\n",
    "\n",
    "stats = backtest_stats(baseline_df, value_col_name = 'close')"
   ]
  },
  {
   "cell_type": "markdown",
   "metadata": {},
   "source": [
    "We can see that the DDPG model outperformed the baseline strategy based on the metrics above."
   ]
  }
 ],
 "metadata": {
  "kernelspec": {
   "display_name": "myenv3.10",
   "language": "python",
   "name": "python3"
  },
  "language_info": {
   "codemirror_mode": {
    "name": "ipython",
    "version": 3
   },
   "file_extension": ".py",
   "mimetype": "text/x-python",
   "name": "python",
   "nbconvert_exporter": "python",
   "pygments_lexer": "ipython3",
   "version": "3.10.13"
  }
 },
 "nbformat": 4,
 "nbformat_minor": 2
}
